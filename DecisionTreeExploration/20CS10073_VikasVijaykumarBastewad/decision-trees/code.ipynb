{
 "cells": [
  {
   "attachments": {},
   "cell_type": "markdown",
   "metadata": {},
   "source": [
    "## Assignment 2 - Decision Tree\n",
    "### Name: Vikas Vijaykumar Bastewad\n",
    "### Roll Number: 20CS10073"
   ]
  },
  {
   "cell_type": "markdown",
   "metadata": {},
   "source": [
    "Problem Statement: \n",
    "Decision trees are graphical models that make decisions based on conditions, branching into out-\n",
    "comes or actions. They represent choices in a tree-like structure, aiding in classification or regres-\n",
    "sion tasks by recursively partitioning data based on features, enabling interpretable and effective\n",
    "decision-making.\n",
    "For this assignment,\n",
    "1. Split the dataset into 80% for training and 20% for testing. Normalize/Regularize data if\n",
    "necessary. Encode categorical variables using appropriate encoding method if necessary.\n",
    "2. Implement the standard ID3 Decision tree algorithm as discussed in class,using Informa-\n",
    "tion Gain to choose which attribute to split at eachpoint. Stop splitting a node if it has less\n",
    "than 10 data points. Do NOT use scikit-learn for this part.\n",
    "3. Perform reduced error pruning operation over the tree obtained in (2). Plot a graph\n",
    "showing the variation in test accuracy with varying depths. Print the pruned tree obtained\n",
    "in hierarchical fashion with the attributes clearly shown at each level.\n",
    "4. Report the mean macro accuracy, macro precision and macro recall for the classifier.\n",
    "You may or may not use the scikit-learn implementations for computing these metrics."
   ]
  },
  {
   "cell_type": "code",
   "execution_count": 1,
   "metadata": {},
   "outputs": [],
   "source": [
    "# import all the necessary libraries here\n",
    "import pandas as pd\n",
    "import numpy as np\n",
    "import matplotlib.pyplot as plt\n",
    "from collections import Counter\n",
    "from copy import deepcopy\n"
   ]
  },
  {
   "cell_type": "code",
   "execution_count": 2,
   "metadata": {},
   "outputs": [
    {
     "data": {
      "text/html": [
       "<div>\n",
       "<style scoped>\n",
       "    .dataframe tbody tr th:only-of-type {\n",
       "        vertical-align: middle;\n",
       "    }\n",
       "\n",
       "    .dataframe tbody tr th {\n",
       "        vertical-align: top;\n",
       "    }\n",
       "\n",
       "    .dataframe thead th {\n",
       "        text-align: right;\n",
       "    }\n",
       "</style>\n",
       "<table border=\"1\" class=\"dataframe\">\n",
       "  <thead>\n",
       "    <tr style=\"text-align: right;\">\n",
       "      <th></th>\n",
       "      <th>Pregnancies</th>\n",
       "      <th>Glucose</th>\n",
       "      <th>BloodPressure</th>\n",
       "      <th>SkinThickness</th>\n",
       "      <th>Insulin</th>\n",
       "      <th>BMI</th>\n",
       "      <th>DiabetesPedigreeFunction</th>\n",
       "      <th>Age</th>\n",
       "      <th>Outcome</th>\n",
       "    </tr>\n",
       "  </thead>\n",
       "  <tbody>\n",
       "    <tr>\n",
       "      <th>0</th>\n",
       "      <td>6</td>\n",
       "      <td>148</td>\n",
       "      <td>72</td>\n",
       "      <td>35</td>\n",
       "      <td>0</td>\n",
       "      <td>33.6</td>\n",
       "      <td>0.627</td>\n",
       "      <td>50</td>\n",
       "      <td>1</td>\n",
       "    </tr>\n",
       "    <tr>\n",
       "      <th>1</th>\n",
       "      <td>1</td>\n",
       "      <td>85</td>\n",
       "      <td>66</td>\n",
       "      <td>29</td>\n",
       "      <td>0</td>\n",
       "      <td>26.6</td>\n",
       "      <td>0.351</td>\n",
       "      <td>31</td>\n",
       "      <td>0</td>\n",
       "    </tr>\n",
       "    <tr>\n",
       "      <th>2</th>\n",
       "      <td>8</td>\n",
       "      <td>183</td>\n",
       "      <td>64</td>\n",
       "      <td>0</td>\n",
       "      <td>0</td>\n",
       "      <td>23.3</td>\n",
       "      <td>0.672</td>\n",
       "      <td>32</td>\n",
       "      <td>1</td>\n",
       "    </tr>\n",
       "    <tr>\n",
       "      <th>3</th>\n",
       "      <td>1</td>\n",
       "      <td>89</td>\n",
       "      <td>66</td>\n",
       "      <td>23</td>\n",
       "      <td>94</td>\n",
       "      <td>28.1</td>\n",
       "      <td>0.167</td>\n",
       "      <td>21</td>\n",
       "      <td>0</td>\n",
       "    </tr>\n",
       "    <tr>\n",
       "      <th>4</th>\n",
       "      <td>0</td>\n",
       "      <td>137</td>\n",
       "      <td>40</td>\n",
       "      <td>35</td>\n",
       "      <td>168</td>\n",
       "      <td>43.1</td>\n",
       "      <td>2.288</td>\n",
       "      <td>33</td>\n",
       "      <td>1</td>\n",
       "    </tr>\n",
       "  </tbody>\n",
       "</table>\n",
       "</div>"
      ],
      "text/plain": [
       "   Pregnancies  Glucose  BloodPressure  SkinThickness  Insulin   BMI  \\\n",
       "0            6      148             72             35        0  33.6   \n",
       "1            1       85             66             29        0  26.6   \n",
       "2            8      183             64              0        0  23.3   \n",
       "3            1       89             66             23       94  28.1   \n",
       "4            0      137             40             35      168  43.1   \n",
       "\n",
       "   DiabetesPedigreeFunction  Age  Outcome  \n",
       "0                     0.627   50        1  \n",
       "1                     0.351   31        0  \n",
       "2                     0.672   32        1  \n",
       "3                     0.167   21        0  \n",
       "4                     2.288   33        1  "
      ]
     },
     "execution_count": 2,
     "metadata": {},
     "output_type": "execute_result"
    }
   ],
   "source": [
    "df = pd.read_csv('../../dataset/decision-tree.csv')\n",
    "df.head()"
   ]
  },
  {
   "cell_type": "markdown",
   "metadata": {},
   "source": [
    "Step 1: Data Preprocessing"
   ]
  },
  {
   "cell_type": "code",
   "execution_count": 3,
   "metadata": {},
   "outputs": [],
   "source": [
    "# Spliting the dataset into training (80%) and testing (20%) sets\n",
    "train_size = int(0.8 * len(df))\n",
    "train_data = df[:train_size]\n",
    "test_data = df[train_size:]"
   ]
  },
  {
   "cell_type": "markdown",
   "metadata": {},
   "source": [
    "Step 2: Implementing ID3 Decision Tree Algorithm"
   ]
  },
  {
   "cell_type": "code",
   "execution_count": 4,
   "metadata": {},
   "outputs": [],
   "source": [
    "# function to calculate entropy\n",
    "def calculate_entropy(target):\n",
    "    # Calculating the entropy of a binary target variable\n",
    "    p_positive = len(target[target == 1]) / len(target)\n",
    "    p_negative = 1 - p_positive\n",
    "    \n",
    "    if p_positive == 0 or p_negative == 0:\n",
    "        return 0\n",
    "    \n",
    "    entropy = -p_positive * np.log2(p_positive) - p_negative * np.log2(p_negative)\n",
    "    return entropy"
   ]
  },
  {
   "cell_type": "code",
   "execution_count": 5,
   "metadata": {},
   "outputs": [],
   "source": [
    "# function to calculate Information Gain\n",
    "def information_gain(data, attribute, target):\n",
    "    # Calculating entropy before splitting\n",
    "    entropy_before = calculate_entropy(data[target])\n",
    "    \n",
    "    # Calculating entropy after splitting on the attribute\n",
    "    weighted_entropy = 0\n",
    "    values = data[attribute].unique()\n",
    "    \n",
    "    for value in values:\n",
    "        subset = data[data[attribute] == value]\n",
    "        weighted_entropy += (len(subset) / len(data)) * calculate_entropy(subset[target])\n",
    "    \n",
    "    # Calculating Information Gain\n",
    "    information_gain = entropy_before - weighted_entropy\n",
    "    return information_gain"
   ]
  },
  {
   "cell_type": "code",
   "execution_count": 6,
   "metadata": {},
   "outputs": [],
   "source": [
    "# Implementing the ID3 Decision Tree algorithm recursively\n",
    "def id3(data, target, attributes):\n",
    "    # Base case: Stop splitting if there are fewer than 10 data points\n",
    "    if len(data) < 10:\n",
    "        return data[target].mode().iloc[0]\n",
    "\n",
    "    # Base case: Return the majority class if all data points have the same class\n",
    "    if len(data[target].unique()) == 1:\n",
    "        return data[target].iloc[0]\n",
    "\n",
    "    # Calculating Information Gain for each attribute\n",
    "    information_gains = {attribute: information_gain(data, attribute, target) for attribute in attributes}\n",
    "\n",
    "    # Selecting the attribute with the highest Information Gain\n",
    "    best_attribute = max(information_gains, key=information_gains.get)\n",
    "\n",
    "    # Creating a decision tree node with the best attribute\n",
    "    tree = {best_attribute: {}}\n",
    "\n",
    "    # Recursively building the tree for each attribute value\n",
    "    for value in data[best_attribute].unique():\n",
    "        subset = data[data[best_attribute] == value]   \n",
    "        # Removing the best attribute from the attribute set                 \n",
    "        tree[best_attribute][value] = id3(subset, target, [attr for attr in attributes if attr != best_attribute])  \n",
    "\n",
    "    return tree\n"
   ]
  },
  {
   "cell_type": "code",
   "execution_count": 7,
   "metadata": {},
   "outputs": [],
   "source": [
    "# function to calculate the depth of decision tree\n",
    "def tree_depth(tree):\n",
    "    if not isinstance(tree, dict) or not tree:\n",
    "        return 0\n",
    "    return 1 + max(tree_depth(subtree) for subtree in tree.values())"
   ]
  },
  {
   "cell_type": "markdown",
   "metadata": {},
   "source": [
    "Step 3: Reduced Error Pruning"
   ]
  },
  {
   "cell_type": "code",
   "execution_count": 8,
   "metadata": {},
   "outputs": [],
   "source": [
    "def find_non_leaf_nodes(tree):\n",
    "    # Find and return non-leaf nodes in the tree\n",
    "    nodes = []\n",
    "    for attribute, subtree in tree.items():\n",
    "        if isinstance(subtree, dict):\n",
    "            nodes.append(subtree)\n",
    "            nodes.extend(find_non_leaf_nodes(subtree))\n",
    "    return nodes"
   ]
  },
  {
   "cell_type": "code",
   "execution_count": 9,
   "metadata": {},
   "outputs": [],
   "source": [
    "# function to predict the class for a single data point using the decision tree \n",
    "def predict(tree, data_point):\n",
    "    for attribute, subtree in tree.items():\n",
    "        value = data_point[attribute]\n",
    "        if value in subtree:\n",
    "            if isinstance(subtree[value], dict):\n",
    "                # Continue to traverse the tree\n",
    "                return predict(subtree[value], data_point)\n",
    "            else:\n",
    "                # Reached a leaf node, return the class label\n",
    "                return subtree[value]"
   ]
  },
  {
   "cell_type": "code",
   "execution_count": 10,
   "metadata": {},
   "outputs": [],
   "source": [
    "# function to evaluate the tree on the validation data and return the accuracy\n",
    "def evaluate_tree(tree, validation_attributes, validation_target):\n",
    "    correct_predictions = 0\n",
    "    total_predictions = len(validation_target)\n",
    "\n",
    "    for (_, row), target_value in zip(validation_attributes.iterrows(), validation_target):\n",
    "        prediction = predict(tree, row)\n",
    "        if prediction == target_value:\n",
    "            correct_predictions += 1\n",
    "\n",
    "    accuracy = correct_predictions / total_predictions\n",
    "    return accuracy"
   ]
  },
  {
   "cell_type": "code",
   "execution_count": 11,
   "metadata": {},
   "outputs": [],
   "source": [
    "# Implementing Reduced Error Pruning\n",
    "\n",
    "def prune_tree(tree, validation_data, target_attribute, max_depth=None):\n",
    "    # Spliting validation data into attributes and target\n",
    "    validation_attributes = validation_data.drop(columns=[target_attribute])\n",
    "    validation_target = validation_data[target_attribute]\n",
    "    \n",
    "    validation_accuracy = evaluate_tree(tree, validation_attributes, validation_target)\n",
    "    pruned_tree = deepcopy(tree)  # Creating a copy of the tree for temporary pruning\n",
    "    \n",
    "    for node in find_non_leaf_nodes(pruned_tree):\n",
    "        # Temporarily pruning the subtree below the node\n",
    "        original_subtree = list(node.items())[0]  # Using list() to convert the item to a list\n",
    "        node.popitem()  # Removing the last item from the node to prune the subtree\n",
    "        temp_accuracy = evaluate_tree(pruned_tree, validation_attributes, validation_target)\n",
    "        \n",
    "        if max_depth is not None and tree_depth(pruned_tree) >= max_depth:\n",
    "            # If max_depth is reached, stop pruning\n",
    "            node[original_subtree[0]] = original_subtree[1]\n",
    "        elif temp_accuracy >= validation_accuracy:\n",
    "            node[original_subtree[0]] = original_subtree[1]\n",
    "\n",
    "        if temp_accuracy >= validation_accuracy:    # If accuracy improves, keep the pruned subtree\n",
    "            validation_accuracy = temp_accuracy     # Update the validation accuracy\n",
    "        else:   # Revert to the original subtree                                        \n",
    "            node[original_subtree[0]] = original_subtree[1]\n",
    "    \n",
    "    # Permanently pruning the node with the greatest increase in accuracy\n",
    "    for node in find_non_leaf_nodes(pruned_tree):\n",
    "        original_subtree = list(node.items())[0]\n",
    "        node.popitem()\n",
    "        temp_accuracy = evaluate_tree(pruned_tree, validation_attributes, validation_target)\n",
    "        if temp_accuracy >= validation_accuracy:\n",
    "            node[original_subtree[0]] = original_subtree[1]\n",
    "    \n",
    "    return pruned_tree"
   ]
  },
  {
   "cell_type": "code",
   "execution_count": 12,
   "metadata": {},
   "outputs": [],
   "source": [
    "# Spliting the training data into training and validation sets (70% train, 30% validation) to implement pruning\n",
    "train_size = int(0.7 * len(train_data))\n",
    "train_set = train_data[:train_size]\n",
    "validation_set = train_data[train_size:]"
   ]
  },
  {
   "cell_type": "code",
   "execution_count": 13,
   "metadata": {},
   "outputs": [],
   "source": [
    "# Training the Decision Tree on the training set using ID3 algorithm\n",
    "attributes = df.columns[:-1].tolist()   # List of attributes\n",
    "target_attribute = 'Outcome'            # Class label\n",
    "tree = id3(train_set, target_attribute, attributes) # Building the tree"
   ]
  },
  {
   "cell_type": "code",
   "execution_count": 14,
   "metadata": {},
   "outputs": [],
   "source": [
    "# Pruning the Decision Tree using the validation set \n",
    "pruned_tree = prune_tree(tree, validation_set, target_attribute)    \n",
    "# print(pruned_tree)"
   ]
  },
  {
   "cell_type": "markdown",
   "metadata": {},
   "source": [
    "Step 4: Reporting the metrics"
   ]
  },
  {
   "cell_type": "code",
   "execution_count": 15,
   "metadata": {},
   "outputs": [],
   "source": [
    "# Evaluating the pruned tree on the test data\n",
    "test_predictions = [predict(pruned_tree, row) for _, row in test_data.iterrows()]\n",
    "test_actual = test_data[target_attribute].tolist()"
   ]
  },
  {
   "cell_type": "code",
   "execution_count": 16,
   "metadata": {},
   "outputs": [
    {
     "name": "stdout",
     "output_type": "stream",
     "text": [
      "Metrics for the pruned tree:\n",
      "-Mean Macro Accuracy: 0.18831168831168832\n",
      "-Mean Macro Precision: 0.428030303030303\n",
      "-Mean Macro Recall: 0.1707070707070707\n"
     ]
    }
   ],
   "source": [
    "# Calculating and printing the metrics\n",
    "def calculate_metrics(predictions, actual):\n",
    "    # Calculating macro accuracy\n",
    "    correct = sum(p == a for p, a in zip(predictions, actual))\n",
    "    macro_accuracy = correct / len(actual)\n",
    "    \n",
    "    # Calculating macro precision and macro recall\n",
    "    true_positives = Counter()\n",
    "    false_positives = Counter()\n",
    "    false_negatives = Counter()\n",
    "    \n",
    "    for p, a in zip(predictions, actual):\n",
    "        if p == a:\n",
    "            true_positives[a] += 1\n",
    "        else:\n",
    "            false_positives[p] += 1\n",
    "            false_negatives[a] += 1\n",
    "    \n",
    "    macro_precision = sum(true_positives[c] / (true_positives[c] + false_positives[c]) for c in true_positives) / len(true_positives)\n",
    "    macro_recall = sum(true_positives[c] / (true_positives[c] + false_negatives[c]) for c in true_positives) / len(true_positives)\n",
    "    \n",
    "    return macro_accuracy, macro_precision, macro_recall\n",
    "\n",
    "macro_accuracy, macro_precision, macro_recall = calculate_metrics(test_predictions, test_actual)\n",
    "print(\"Metrics for the pruned tree:\")\n",
    "print(\"-Mean Macro Accuracy:\", macro_accuracy)\n",
    "print(\"-Mean Macro Precision:\", macro_precision)\n",
    "print(\"-Mean Macro Recall:\", macro_recall)\n"
   ]
  },
  {
   "cell_type": "markdown",
   "metadata": {},
   "source": [
    "Step 5: Printing the pruned tree and Plotting the graph for test accuracy with varying depths"
   ]
  },
  {
   "cell_type": "code",
   "execution_count": 17,
   "metadata": {},
   "outputs": [
    {
     "name": "stdout",
     "output_type": "stream",
     "text": [
      "Pruned Decision Tree:\n",
      "{'DiabetesPedigreeFunction': {0.627: 1, 0.351: 0, 0.672: 1, 0.167: 0, 2.288: 1, 0.201: 0, 0.248: 0, 0.134: 0, 0.158: 1, 0.232: 1, 0.191: 0, 0.537: 1, 1.441: 0, 0.398: 1, 0.587: 0, 0.484: 1, 0.551: 1, 0.254: 1, 0.183: 0, 0.529: 1, 0.704: 0, 0.388: 0, 0.451: 1, 0.263: 0, 0.205: 0, 0.257: 1, 0.487: 0, 0.245: 0, 0.337: 1, 0.546: 0, 0.851: 1, 0.267: 0, 0.188: 0, 0.512: 0, 0.966: 0, 0.42: 0, 0.665: 1, 0.503: 1, 1.39: 1, 0.271: 0, 0.696: 0, 0.235: 0, 0.721: 1, 0.294: 0, 1.893: 1, 0.564: 0, 0.586: 0, 0.344: 1, 0.305: 0, 0.491: 0, 0.526: 0, 0.342: 0, 0.467: 1, 0.718: 0, 0.962: 0, 1.781: 0, 0.173: 0, 0.304: 0, 0.27: 1, 0.699: 0, 0.258: 0, 0.203: 0, 0.855: 1, 0.845: 0, 0.334: 0, 0.189: 0, 0.867: 1, 0.411: 0, 0.583: 1, 0.231: 0, 0.396: 0, 0.14: 0, 0.391: 0, 0.37: 0, 0.307: 0, 0.102: 0, 0.767: 0, 0.237: 0, 0.227: 1, 0.698: 0, 0.178: 0, 0.324: 0, 0.153: 1, 0.165: 0, 0.443: 0, 0.261: 0, 0.277: 1, 0.761: 0, 0.255: 0, 0.13: 0, 0.323: 0, 0.356: 0, 0.325: 1, 1.222: 1, 0.179: 0, 0.262: 0, 0.283: 0, 0.93: 0, 0.801: 0, 0.207: 0, 0.287: 0, 0.336: 0, 0.247: 1, 0.199: 1, 0.543: 1, 0.192: 0, 0.588: 1, 0.539: 1, 0.22: 1, 0.654: 0, 0.223: 0, 0.759: 1, 0.26: 0, 0.404: 0, 0.186: 0, 0.278: 1, 0.496: 0, 0.452: 0, 0.403: 1, 0.741: 1, 0.361: 1, 1.114: 1, 0.457: 0, 0.647: 0, 0.088: 0, 0.597: 0, 0.532: 0, 0.703: 0, 0.159: 0, 0.268: 0, 0.286: 0, 0.318: 0, 0.272: 1, 0.572: 0, 0.096: 0, 1.4: 0, 0.218: 0, 0.085: 0, 0.399: 0, 0.432: 0, 1.189: 1, 0.687: 0, 0.137: 0, 0.637: 0, 0.833: 0, 0.229: 0, 0.817: 1, 0.204: 0, 0.368: 0, 0.743: 1, 0.722: 1, 0.256: 0, 0.709: 0, 0.471: 0, 0.495: 0, 0.18: 1, 0.542: 1, 0.773: 0, 0.678: 0, 0.719: 1, 0.382: 0, 0.319: 1, 0.19: 0, 0.956: 1, 0.084: 0, 0.725: 0, 0.299: 0, 0.244: 0, 0.745: 1, 0.615: 1, 1.321: 1, 0.64: 1, 0.142: 0, 0.374: 0, 0.383: 1, 0.578: 1, 0.136: 0, 0.395: 1, 0.187: 0, 0.905: 1, 0.15: 0, 0.874: 0, 0.236: 0, 0.787: 0, 0.407: 0, 0.605: 0, 0.151: 0, 0.289: 0, 0.355: 1, 0.29: 0, 0.375: 0, 0.164: 0, 0.431: 1, 0.742: 1, 0.514: 1, 0.464: 0, 1.224: 1, 1.072: 1, 0.805: 1, 0.209: 0, 0.666: 0, 0.101: 0, 0.198: 0, 0.652: 1, 2.329: 0, 0.089: 0, 0.645: 1, 0.238: 1, 0.394: 0, 0.293: 0, 0.479: 1, 0.686: 1, 0.831: 1, 0.582: 0, 0.446: 0, 0.402: 1, 1.318: 1, 0.329: 0, 1.213: 1, 0.427: 0, 0.282: 0, 0.143: 0, 0.38: 0, 0.284: 0, 0.249: 0, 0.926: 1, 0.557: 0, 0.092: 0, 0.655: 0, 1.353: 1, 0.612: 0, 0.2: 0, 0.226: 1, 0.997: 0, 0.933: 1, 1.101: 0, 0.078: 0, 0.24: 1, 1.136: 1, 0.128: 0, 0.422: 0, 0.251: 0, 0.677: 0, 0.296: 1, 0.454: 0, 0.744: 0, 0.881: 0, 0.28: 0, 0.259: 0, 0.619: 0, 0.808: 1, 0.34: 0, 0.434: 0, 0.757: 1, 0.613: 1, 0.692: 0, 0.52: 0, 0.412: 1, 0.84: 0, 0.839: 1, 0.156: 0, 0.215: 0, 0.326: 1, 1.391: 1, 0.875: 1, 0.313: 0, 0.433: 1, 0.626: 0, 1.127: 1, 0.315: 0, 0.345: 1, 0.129: 1, 0.527: 0, 0.197: 1, 0.731: 1, 0.148: 0, 0.123: 0, 0.127: 1, 0.122: 0, 1.476: 0, 0.166: 0, 0.932: 0, 0.343: 1, 0.893: 1, 0.331: 1, 0.472: 0, 0.673: 0, 0.389: 0, 0.485: 0, 0.349: 0, 0.279: 0, 0.346: 1, 0.252: 0, 0.243: 0, 0.58: 0, 0.559: 0, 0.302: 1, 0.569: 1, 0.378: 0, 0.385: 0, 0.499: 0, 0.306: 0, 0.234: 1, 2.137: 1, 1.731: 0, 0.545: 0, 0.225: 0, 0.816: 0, 0.528: 0, 0.509: 0, 1.021: 0, 0.821: 0, 0.947: 0, 1.268: 0, 0.221: 0, 0.66: 1, 0.239: 1, 0.949: 0, 0.444: 0, 0.463: 0, 0.803: 1, 1.6: 0, 0.944: 0, 0.196: 1, 0.241: 1, 0.161: 1, 0.135: 1, 0.376: 1, 1.191: 1, 0.702: 1, 0.674: 0, 1.076: 0, 0.534: 1, 1.095: 0, 0.554: 1, 0.624: 0, 0.219: 1, 0.507: 0, 0.561: 0, 0.421: 0, 0.516: 1}}\n"
     ]
    }
   ],
   "source": [
    "# Printing the pruned decision tree\n",
    "print(\"Pruned Decision Tree:\")\n",
    "print(pruned_tree)"
   ]
  },
  {
   "cell_type": "code",
   "execution_count": 18,
   "metadata": {},
   "outputs": [
    {
     "data": {
      "image/png": "[encoded data removed]",
      "text/plain": [
       "<Figure size 640x480 with 1 Axes>"
      ]
     },
     "metadata": {},
     "output_type": "display_data"
    }
   ],
   "source": [
    "depths = list(range(1, tree_depth(tree) + 1))   # List of tree depths to try\n",
    "accuracies = []                                 # List to store accuracies corresponding to each depth\n",
    "# print(depths)\n",
    "for depth in depths:\n",
    "    pruned_tree = prune_tree(tree, validation_set, target_attribute, max_depth=depth)           \n",
    "    test_predictions = [predict(pruned_tree, row) for _, row in test_data.iterrows()]\n",
    "    accuracy = calculate_metrics(test_predictions, test_actual)[0]\n",
    "    accuracies.append(accuracy)\n",
    "\n",
    "# print(accuracies)\n",
    "plt.plot(depths, accuracies)\n",
    "plt.xlabel('Tree Depth')\n",
    "plt.ylabel('Test Accuracy')\n",
    "plt.title('Test Accuracy vs. Tree Depth')\n",
    "plt.show()"
   ]
  }
 ],
 "metadata": {
  "kernelspec": {
   "display_name": "base",
   "language": "python",
   "name": "python3"
  },
  "language_info": {
   "codemirror_mode": {
    "name": "ipython",
    "version": 3
   },
   "file_extension": ".py",
   "mimetype": "text/x-python",
   "name": "python",
   "nbconvert_exporter": "python",
   "pygments_lexer": "ipython3",
   "version": "3.11.3"
  },
  "orig_nbformat": 4,
  "vscode": {
   "interpreter": {
    "hash": "3067ead486e059ec00ffe7555bdb889e6e264a24dc711bf108106cc7baee8d5d"
   }
  }
 },
 "nbformat": 4,
 "nbformat_minor": 2
}
